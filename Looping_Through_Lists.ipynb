{
  "nbformat": 4,
  "nbformat_minor": 0,
  "metadata": {
    "colab": {
      "name": "Looping Through Lists.ipynb",
      "provenance": [],
      "authorship_tag": "ABX9TyO7qp5buFBfbLJZ0juaFZVc",
      "include_colab_link": true
    },
    "kernelspec": {
      "name": "python3",
      "display_name": "Python 3"
    },
    "language_info": {
      "name": "python"
    }
  },
  "cells": [
    {
      "cell_type": "markdown",
      "metadata": {
        "id": "view-in-github",
        "colab_type": "text"
      },
      "source": [
        "<a href=\"https://colab.research.google.com/github/jacksonsin/Python-Best-Practices/blob/main/Looping_Through_Lists.ipynb\" target=\"_parent\"><img src=\"https://colab.research.google.com/assets/colab-badge.svg\" alt=\"Open In Colab\"/></a>"
      ]
    },
    {
      "cell_type": "code",
      "execution_count": 5,
      "metadata": {
        "id": "a-aAiScYuNQD"
      },
      "outputs": [],
      "source": [
        "A = [1,2,3]\n",
        "B = [4,5,6]"
      ]
    },
    {
      "cell_type": "code",
      "source": [
        "for i in range(len(B)): # Instead of doing this\n",
        "  av = A[i]\n",
        "  bv = B[i]\n",
        "  print(av, bv)"
      ],
      "metadata": {
        "colab": {
          "base_uri": "https://localhost:8080/"
        },
        "id": "HWNOWbaoudWn",
        "outputId": "f275b873-be79-4a41-c06b-516b93b9eae7"
      },
      "execution_count": 6,
      "outputs": [
        {
          "output_type": "stream",
          "name": "stdout",
          "text": [
            "1 4\n",
            "2 5\n",
            "3 6\n"
          ]
        }
      ]
    },
    {
      "cell_type": "code",
      "source": [
        "for av, bv in zip(A,B): # Do this\n",
        "  print(av,bv)"
      ],
      "metadata": {
        "colab": {
          "base_uri": "https://localhost:8080/"
        },
        "id": "XqG0L0UPuc7E",
        "outputId": "04258652-fec6-4139-e697-3b3c25977673"
      },
      "execution_count": 7,
      "outputs": [
        {
          "output_type": "stream",
          "name": "stdout",
          "text": [
            "1 4\n",
            "2 5\n",
            "3 6\n"
          ]
        }
      ]
    },
    {
      "cell_type": "code",
      "source": [
        "for i, (av, bv) in enumerate(zip(A,B)): # Do this\n",
        "  print(av,bv)"
      ],
      "metadata": {
        "colab": {
          "base_uri": "https://localhost:8080/"
        },
        "id": "eD0NjVxRvJa5",
        "outputId": "e6eff011-f0ea-4f52-8a4f-cecd2e3cfd46"
      },
      "execution_count": 8,
      "outputs": [
        {
          "output_type": "stream",
          "name": "stdout",
          "text": [
            "1 4\n",
            "2 5\n",
            "3 6\n"
          ]
        }
      ]
    }
  ]
}