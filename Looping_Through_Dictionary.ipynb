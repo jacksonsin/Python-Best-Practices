{
  "nbformat": 4,
  "nbformat_minor": 0,
  "metadata": {
    "colab": {
      "name": "Looping Through Dictionary.ipynb",
      "provenance": [],
      "authorship_tag": "ABX9TyNEzPQFetxg3Meet0xQVOw2",
      "include_colab_link": true
    },
    "kernelspec": {
      "name": "python3",
      "display_name": "Python 3"
    },
    "language_info": {
      "name": "python"
    }
  },
  "cells": [
    {
      "cell_type": "markdown",
      "metadata": {
        "id": "view-in-github",
        "colab_type": "text"
      },
      "source": [
        "<a href=\"https://colab.research.google.com/github/jacksonsin/Python-Best-Practices/blob/main/Looping_Through_Dictionary.ipynb\" target=\"_parent\"><img src=\"https://colab.research.google.com/assets/colab-badge.svg\" alt=\"Open In Colab\"/></a>"
      ]
    },
    {
      "cell_type": "code",
      "execution_count": 4,
      "metadata": {
        "id": "2enCm-YnsosH"
      },
      "outputs": [],
      "source": [
        "d = {\"A\":1,\"B\":2,\"C\":3}"
      ]
    },
    {
      "cell_type": "code",
      "source": [
        "for keys in d.keys(): # Instead of doing this\n",
        "  print(keys)  \n",
        "for keys in d: # Do this\n",
        "  print(keys)"
      ],
      "metadata": {
        "colab": {
          "base_uri": "https://localhost:8080/"
        },
        "id": "ArbHucXhsv2A",
        "outputId": "2365faee-c2d4-44f7-f588-69491e9d17fc"
      },
      "execution_count": 5,
      "outputs": [
        {
          "output_type": "stream",
          "name": "stdout",
          "text": [
            "A\n",
            "B\n",
            "C\n",
            "A\n",
            "B\n",
            "C\n"
          ]
        }
      ]
    },
    {
      "cell_type": "code",
      "source": [
        "for v in d.values(): # Instead of doing this\n",
        "  print(v)\n",
        "for k,v in d.items(): # Do this\n",
        "  print(v)"
      ],
      "metadata": {
        "colab": {
          "base_uri": "https://localhost:8080/"
        },
        "id": "VWYFj57Ks8iM",
        "outputId": "cf304fae-e89f-4271-cbc2-74449d611689"
      },
      "execution_count": 6,
      "outputs": [
        {
          "output_type": "stream",
          "name": "stdout",
          "text": [
            "1\n",
            "2\n",
            "3\n",
            "1\n",
            "2\n",
            "3\n"
          ]
        }
      ]
    }
  ]
}